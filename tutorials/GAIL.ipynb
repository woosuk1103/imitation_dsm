{
 "cells": [
  {
   "cell_type": "code",
   "execution_count": 1,
   "metadata": {},
   "outputs": [
    {
     "name": "stderr",
     "output_type": "stream",
     "text": [
      "C:\\Users\\mnl\\AppData\\Local\\Packages\\PythonSoftwareFoundation.Python.3.10_qbz5n2kfra8p0\\LocalCache\\local-packages\\Python310\\site-packages\\tqdm\\auto.py:22: TqdmWarning: IProgress not found. Please update jupyter and ipywidgets. See https://ipywidgets.readthedocs.io/en/stable/user_install.html\n",
      "  from .autonotebook import tqdm as notebook_tqdm\n",
      "C:\\Users\\mnl\\AppData\\Local\\Packages\\PythonSoftwareFoundation.Python.3.10_qbz5n2kfra8p0\\LocalCache\\local-packages\\Python310\\site-packages\\gym\\spaces\\box.py:73: UserWarning: \u001b[33mWARN: Box bound precision lowered by casting to float32\u001b[0m\n",
      "  logger.warn(\n"
     ]
    },
    {
     "data": {
      "text/plain": [
       "<stable_baselines3.ppo.ppo.PPO at 0x1f2fdda4490>"
      ]
     },
     "execution_count": 1,
     "metadata": {},
     "output_type": "execute_result"
    }
   ],
   "source": [
    "import gym\n",
    "from stable_baselines3 import PPO\n",
    "from stable_baselines3.ppo import MlpPolicy\n",
    "import seals  # needed to load environments\n",
    "\n",
    "env = gym.make(\"seals/CartPole-v0\")\n",
    "expert = PPO(\n",
    "    policy=MlpPolicy,\n",
    "    env=env,\n",
    "    seed=0,\n",
    "    batch_size=64,\n",
    "    ent_coef=0.0,\n",
    "    learning_rate=0.0003,\n",
    "    n_epochs=10,\n",
    "    n_steps=64,\n",
    ")\n",
    "expert.learn(1000)  # Note: set to 100000 to train a proficient expert"
   ]
  },
  {
   "cell_type": "code",
   "execution_count": 2,
   "metadata": {},
   "outputs": [
    {
     "name": "stderr",
     "output_type": "stream",
     "text": [
      "C:\\Users\\mnl\\AppData\\Local\\Packages\\PythonSoftwareFoundation.Python.3.10_qbz5n2kfra8p0\\LocalCache\\local-packages\\Python310\\site-packages\\gym\\spaces\\box.py:73: UserWarning: \u001b[33mWARN: Box bound precision lowered by casting to float32\u001b[0m\n",
      "  logger.warn(\n"
     ]
    }
   ],
   "source": [
    "from imitation.data import rollout\n",
    "from imitation.data.wrappers import RolloutInfoWrapper\n",
    "from imitation.util.util import make_vec_env\n",
    "from stable_baselines3.common.vec_env import DummyVecEnv\n",
    "import numpy as np\n",
    "\n",
    "rng = np.random.default_rng()\n",
    "rollouts = rollout.rollout(\n",
    "    expert,\n",
    "    make_vec_env(\n",
    "        \"seals/CartPole-v0\",\n",
    "        n_envs=5,\n",
    "        post_wrappers=[lambda env, _: RolloutInfoWrapper(env)],\n",
    "        rng=rng,\n",
    "    ),\n",
    "    rollout.make_sample_until(min_timesteps=None, min_episodes=60),\n",
    "    rng=rng,\n",
    ")"
   ]
  },
  {
   "cell_type": "code",
   "execution_count": 3,
   "metadata": {},
   "outputs": [
    {
     "name": "stderr",
     "output_type": "stream",
     "text": [
      "C:\\Users\\mnl\\AppData\\Local\\Packages\\PythonSoftwareFoundation.Python.3.10_qbz5n2kfra8p0\\LocalCache\\local-packages\\Python310\\site-packages\\gym\\spaces\\box.py:73: UserWarning: \u001b[33mWARN: Box bound precision lowered by casting to float32\u001b[0m\n",
      "  logger.warn(\n",
      "round:   0%|          | 0/1 [00:00<?, ?it/s]"
     ]
    },
    {
     "name": "stdout",
     "output_type": "stream",
     "text": [
      "------------------------------------------\n",
      "| raw/                        |          |\n",
      "|    gen/rollout/ep_len_mean  | 500      |\n",
      "|    gen/rollout/ep_rew_mean  | 31.2     |\n",
      "|    gen/time/fps             | 4890     |\n",
      "|    gen/time/iterations      | 1        |\n",
      "|    gen/time/time_elapsed    | 3        |\n",
      "|    gen/time/total_timesteps | 16384    |\n",
      "------------------------------------------\n",
      "--------------------------------------------------\n",
      "| raw/                                |          |\n",
      "|    disc/disc_acc                    | 0.45     |\n",
      "|    disc/disc_acc_expert             | 0.899    |\n",
      "|    disc/disc_acc_gen                | 0        |\n",
      "|    disc/disc_entropy                | 0.691    |\n",
      "|    disc/disc_loss                   | 0.702    |\n",
      "|    disc/disc_proportion_expert_pred | 0.95     |\n",
      "|    disc/disc_proportion_expert_true | 0.5      |\n",
      "|    disc/global_step                 | 1        |\n",
      "|    disc/n_expert                    | 1.02e+03 |\n",
      "|    disc/n_generated                 | 1.02e+03 |\n",
      "--------------------------------------------------\n",
      "--------------------------------------------------\n",
      "| raw/                                |          |\n",
      "|    disc/disc_acc                    | 0.462    |\n",
      "|    disc/disc_acc_expert             | 0.925    |\n",
      "|    disc/disc_acc_gen                | 0        |\n",
      "|    disc/disc_entropy                | 0.691    |\n",
      "|    disc/disc_loss                   | 0.699    |\n",
      "|    disc/disc_proportion_expert_pred | 0.962    |\n",
      "|    disc/disc_proportion_expert_true | 0.5      |\n",
      "|    disc/global_step                 | 1        |\n",
      "|    disc/n_expert                    | 1.02e+03 |\n",
      "|    disc/n_generated                 | 1.02e+03 |\n",
      "--------------------------------------------------\n",
      "--------------------------------------------------\n",
      "| raw/                                |          |\n",
      "|    disc/disc_acc                    | 0.481    |\n",
      "|    disc/disc_acc_expert             | 0.962    |\n",
      "|    disc/disc_acc_gen                | 0        |\n",
      "|    disc/disc_entropy                | 0.691    |\n",
      "|    disc/disc_loss                   | 0.695    |\n",
      "|    disc/disc_proportion_expert_pred | 0.981    |\n",
      "|    disc/disc_proportion_expert_true | 0.5      |\n",
      "|    disc/global_step                 | 1        |\n",
      "|    disc/n_expert                    | 1.02e+03 |\n",
      "|    disc/n_generated                 | 1.02e+03 |\n",
      "--------------------------------------------------\n",
      "--------------------------------------------------\n",
      "| raw/                                |          |\n",
      "|    disc/disc_acc                    | 0.486    |\n",
      "|    disc/disc_acc_expert             | 0.972    |\n",
      "|    disc/disc_acc_gen                | 0        |\n",
      "|    disc/disc_entropy                | 0.691    |\n",
      "|    disc/disc_loss                   | 0.692    |\n",
      "|    disc/disc_proportion_expert_pred | 0.986    |\n",
      "|    disc/disc_proportion_expert_true | 0.5      |\n",
      "|    disc/global_step                 | 1        |\n",
      "|    disc/n_expert                    | 1.02e+03 |\n",
      "|    disc/n_generated                 | 1.02e+03 |\n",
      "--------------------------------------------------\n",
      "--------------------------------------------------\n",
      "| mean/                               |          |\n",
      "|    disc/disc_acc                    | 0.47     |\n",
      "|    disc/disc_acc_expert             | 0.939    |\n",
      "|    disc/disc_acc_gen                | 0        |\n",
      "|    disc/disc_entropy                | 0.691    |\n",
      "|    disc/disc_loss                   | 0.697    |\n",
      "|    disc/disc_proportion_expert_pred | 0.97     |\n",
      "|    disc/disc_proportion_expert_true | 0.5      |\n",
      "|    disc/global_step                 | 1        |\n",
      "|    disc/n_expert                    | 1.02e+03 |\n",
      "|    disc/n_generated                 | 1.02e+03 |\n",
      "|    gen/rollout/ep_len_mean          | 500      |\n",
      "|    gen/rollout/ep_rew_mean          | 31.2     |\n",
      "|    gen/time/fps                     | 4.89e+03 |\n",
      "|    gen/time/iterations              | 1        |\n",
      "|    gen/time/time_elapsed            | 3        |\n",
      "|    gen/time/total_timesteps         | 1.64e+04 |\n",
      "|    gen/train/approx_kl              | 0.00537  |\n",
      "|    gen/train/clip_fraction          | 0.0265   |\n",
      "|    gen/train/clip_range             | 0.2      |\n",
      "|    gen/train/entropy_loss           | -0.688   |\n",
      "|    gen/train/explained_variance     | -0.104   |\n",
      "|    gen/train/learning_rate          | 0.0003   |\n",
      "|    gen/train/loss                   | 2.36     |\n",
      "|    gen/train/n_updates              | 10       |\n",
      "|    gen/train/policy_gradient_loss   | -0.00162 |\n",
      "|    gen/train/value_loss             | 18.8     |\n",
      "--------------------------------------------------\n"
     ]
    },
    {
     "name": "stderr",
     "output_type": "stream",
     "text": [
      "round: 100%|██████████| 1/1 [00:13<00:00, 13.64s/it]\n"
     ]
    }
   ],
   "source": [
    "from imitation.algorithms.adversarial.gail import GAIL\n",
    "from imitation.rewards.reward_nets import BasicRewardNet\n",
    "from imitation.util.networks import RunningNorm\n",
    "from imitation.util.util import make_vec_env\n",
    "from stable_baselines3 import PPO\n",
    "from stable_baselines3.common.evaluation import evaluate_policy\n",
    "from stable_baselines3.common.vec_env import DummyVecEnv\n",
    "\n",
    "import gym\n",
    "\n",
    "\n",
    "venv = make_vec_env(\"seals/CartPole-v0\", n_envs=8, rng=rng)\n",
    "learner = PPO(\n",
    "    env=venv,\n",
    "    policy=MlpPolicy,\n",
    "    batch_size=64,\n",
    "    ent_coef=0.0,\n",
    "    learning_rate=0.0003,\n",
    "    n_epochs=10,\n",
    ")\n",
    "reward_net = BasicRewardNet(\n",
    "    venv.observation_space, venv.action_space, normalize_input_layer=RunningNorm\n",
    ")\n",
    "gail_trainer = GAIL(\n",
    "    demonstrations=rollouts,\n",
    "    demo_batch_size=1024,\n",
    "    gen_replay_buffer_capacity=2048,\n",
    "    n_disc_updates_per_round=4,\n",
    "    venv=venv,\n",
    "    gen_algo=learner,\n",
    "    reward_net=reward_net,\n",
    ")\n",
    "\n",
    "learner_rewards_before_training, _ = evaluate_policy(\n",
    "    learner, venv, 100, return_episode_rewards=True\n",
    ")\n",
    "gail_trainer.train(20000)  # Note: set to 300000 for better results\n",
    "learner_rewards_after_training, _ = evaluate_policy(\n",
    "    learner, venv, 100, return_episode_rewards=True\n",
    ")"
   ]
  },
  {
   "cell_type": "code",
   "execution_count": 7,
   "metadata": {},
   "outputs": [
    {
     "name": "stdout",
     "output_type": "stream",
     "text": [
      "8.28\n",
      "8.5\n",
      "[8.0, 7.0, 7.0, 9.0, 8.0, 8.0, 7.0, 9.0, 9.0, 7.0, 9.0, 9.0, 8.0, 8.0, 9.0, 9.0, 8.0, 8.0, 9.0, 8.0, 8.0, 8.0, 9.0, 8.0, 9.0, 9.0, 9.0, 9.0, 7.0, 9.0, 7.0, 8.0, 8.0, 8.0, 8.0, 9.0, 7.0, 8.0, 8.0, 8.0, 9.0, 8.0, 8.0, 9.0, 7.0, 8.0, 9.0, 9.0, 9.0, 9.0, 8.0, 8.0, 9.0, 9.0, 9.0, 9.0, 9.0, 7.0, 8.0, 8.0, 7.0, 9.0, 8.0, 9.0, 8.0, 8.0, 9.0, 9.0, 8.0, 9.0, 9.0, 7.0, 8.0, 9.0, 8.0, 8.0, 8.0, 8.0, 8.0, 8.0, 8.0, 8.0, 9.0, 7.0, 9.0, 9.0, 8.0, 8.0, 7.0, 8.0, 9.0, 8.0, 9.0, 8.0, 8.0, 8.0, 9.0, 8.0, 10.0, 8.0]\n",
      "[8.0, 9.0, 9.0, 9.0, 9.0, 9.0, 8.0, 9.0, 8.0, 9.0, 8.0, 9.0, 8.0, 9.0, 8.0, 9.0, 8.0, 9.0, 10.0, 9.0, 9.0, 7.0, 9.0, 9.0, 8.0, 8.0, 8.0, 9.0, 9.0, 9.0, 9.0, 9.0, 8.0, 7.0, 9.0, 9.0, 8.0, 9.0, 8.0, 9.0, 7.0, 9.0, 8.0, 8.0, 8.0, 8.0, 9.0, 8.0, 7.0, 9.0, 8.0, 9.0, 9.0, 7.0, 9.0, 9.0, 8.0, 8.0, 9.0, 9.0, 8.0, 9.0, 9.0, 9.0, 9.0, 9.0, 9.0, 9.0, 8.0, 8.0, 8.0, 9.0, 7.0, 9.0, 8.0, 9.0, 7.0, 8.0, 8.0, 8.0, 9.0, 9.0, 8.0, 9.0, 8.0, 9.0, 10.0, 9.0, 9.0, 8.0, 9.0, 9.0, 9.0, 8.0, 9.0, 7.0, 9.0, 8.0, 7.0, 9.0]\n"
     ]
    },
    {
     "data": {
      "image/png": "[encoded data removed]",
      "text/plain": [
       "<Figure size 640x480 with 1 Axes>"
      ]
     },
     "metadata": {},
     "output_type": "display_data"
    }
   ],
   "source": [
    "import matplotlib.pyplot as plt\n",
    "import numpy as np\n",
    "\n",
    "print(np.mean(learner_rewards_after_training))\n",
    "print(np.mean(learner_rewards_before_training))\n",
    "\n",
    "plt.hist(\n",
    "    [learner_rewards_before_training, learner_rewards_after_training],\n",
    "    label=[\"untrained\", \"trained\"],\n",
    ")\n",
    "plt.legend()\n",
    "plt.show()"
   ]
  },
  {
   "cell_type": "code",
   "execution_count": null,
   "metadata": {},
   "outputs": [],
   "source": []
  }
 ],
 "metadata": {
  "kernelspec": {
   "display_name": "Python 3",
   "language": "python",
   "name": "python3"
  },
  "language_info": {
   "codemirror_mode": {
    "name": "ipython",
    "version": 3
   },
   "file_extension": ".py",
   "mimetype": "text/x-python",
   "name": "python",
   "nbconvert_exporter": "python",
   "pygments_lexer": "ipython3",
   "version": "3.10.8"
  },
  "orig_nbformat": 4,
  "vscode": {
   "interpreter": {
    "hash": "0ba5dee84b12ec2ca30958de130fcc385cf38bf14698c62eacf1715aba6e2b94"
   }
  }
 },
 "nbformat": 4,
 "nbformat_minor": 2
}
